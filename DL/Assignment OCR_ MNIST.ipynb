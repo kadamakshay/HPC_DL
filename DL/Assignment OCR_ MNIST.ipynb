{
 "cells": [
  {
   "cell_type": "code",
   "execution_count": 1,
   "id": "c053a6b2",
   "metadata": {},
   "outputs": [],
   "source": [
    "import numpy as np\n",
    "from tensorflow.keras.models import Sequential\n",
    "from tensorflow.keras.layers import Dense, Dropout\n",
    "from tensorflow.keras.optimizers import RMSprop\n",
    "from tensorflow import keras\n",
    "import matplotlib.pyplot as plt\n",
    "from sklearn import metrics\n",
    "(x_train, y_train), (x_test, y_test) = keras.datasets.mnist.load_data()"
   ]
  },
  {
   "cell_type": "code",
   "execution_count": 2,
   "id": "5e41c965",
   "metadata": {},
   "outputs": [
    {
     "name": "stdout",
     "output_type": "stream",
     "text": [
      "X_train shape (60000, 28, 28)\n",
      "y_train shape (60000,)\n",
      "X_test shape (10000, 28, 28)\n",
      "y_test shape (10000,)\n"
     ]
    },
    {
     "data": {
      "image/png": "[encoded data removed]",
      "text/plain": [
       "<Figure size 432x288 with 1 Axes>"
      ]
     },
     "metadata": {
      "needs_background": "light"
     },
     "output_type": "display_data"
    }
   ],
   "source": [
    "plt.imshow(x_train[0])\n",
    "print('X_train shape', x_train.shape)\n",
    "print('y_train shape', y_train.shape)\n",
    "print('X_test shape', x_test.shape)\n",
    "print('y_test shape', y_test.shape)"
   ]
  },
  {
   "cell_type": "code",
   "execution_count": 3,
   "id": "6801c4c4",
   "metadata": {},
   "outputs": [],
   "source": [
    "x_train = x_train.reshape(60000, 784)\n",
    "x_test = x_test.reshape(10000, 784)\n",
    "x_train = x_train.astype('float32')/255\n",
    "x_test = x_test.astype('float32')/255\n"
   ]
  },
  {
   "cell_type": "code",
   "execution_count": 5,
   "id": "ec8ed7e7",
   "metadata": {},
   "outputs": [],
   "source": [
    "num_classes = 10\n",
    "y_train = np.eye(num_classes)[y_train]\n",
    "y_test = np.eye(num_classes)[y_test]"
   ]
  },
  {
   "cell_type": "code",
   "execution_count": 6,
   "id": "d23cc713",
   "metadata": {},
   "outputs": [],
   "source": [
    "model = keras.Sequential([\n",
    "    keras.layers.Dense(512, activation='relu', input_shape=(784,)),\n",
    "    keras.layers.Dropout(0.2),\n",
    "    keras.layers.Dense(512, activation='relu'),\n",
    "    keras.layers.Dropout(0.2),\n",
    "    keras.layers.Dense(num_classes, activation='softmax')\n",
    "])"
   ]
  },
  {
   "cell_type": "code",
   "execution_count": 7,
   "id": "d848069a",
   "metadata": {},
   "outputs": [],
   "source": [
    "model.compile(optimizer=RMSprop(),loss='categorical_crossentropy', metrics=['accuracy'])\n",
    "batch_size = 128 \n",
    "epochs = 20"
   ]
  },
  {
   "cell_type": "code",
   "execution_count": 8,
   "id": "c9050998",
   "metadata": {},
   "outputs": [
    {
     "name": "stdout",
     "output_type": "stream",
     "text": [
      "Epoch 1/20\n",
      "469/469 [==============================] - 18s 33ms/step - loss: 0.2415 - accuracy: 0.9251 - val_loss: 0.1257 - val_accuracy: 0.9590\n",
      "Epoch 2/20\n",
      "469/469 [==============================] - 14s 30ms/step - loss: 0.1024 - accuracy: 0.9695 - val_loss: 0.0860 - val_accuracy: 0.9751\n",
      "Epoch 3/20\n",
      "469/469 [==============================] - 14s 30ms/step - loss: 0.0736 - accuracy: 0.9779 - val_loss: 0.0851 - val_accuracy: 0.9745\n",
      "Epoch 4/20\n",
      "469/469 [==============================] - 16s 33ms/step - loss: 0.0599 - accuracy: 0.9820 - val_loss: 0.0824 - val_accuracy: 0.9758\n",
      "Epoch 5/20\n",
      "469/469 [==============================] - 15s 33ms/step - loss: 0.0493 - accuracy: 0.9850 - val_loss: 0.0786 - val_accuracy: 0.9807\n",
      "Epoch 6/20\n",
      "469/469 [==============================] - 23s 49ms/step - loss: 0.0434 - accuracy: 0.9868 - val_loss: 0.0684 - val_accuracy: 0.9825\n",
      "Epoch 7/20\n",
      "469/469 [==============================] - 44s 95ms/step - loss: 0.0385 - accuracy: 0.9891 - val_loss: 0.0852 - val_accuracy: 0.9826accura - ETA: 37s - - ET - ETA: 18s - loss: 0.0345 - a - ETA: 16s - loss: 0.0351 - accuracy: 0 - ETA: 16s - l\n",
      "Epoch 8/20\n",
      "469/469 [==============================] - 39s 83ms/step - loss: 0.0351 - accuracy: 0.9899 - val_loss: 0.0841 - val_accuracy: 0.9823 0.035\n",
      "Epoch 9/20\n",
      "469/469 [==============================] - 37s 79ms/step - loss: 0.0292 - accuracy: 0.9913 - val_loss: 0.0920 - val_accuracy: 0.9838\n",
      "Epoch 10/20\n",
      "469/469 [==============================] - 17s 36ms/step - loss: 0.0278 - accuracy: 0.9921 - val_loss: 0.0928 - val_accuracy: 0.9816\n",
      "Epoch 11/20\n",
      "469/469 [==============================] - 14s 30ms/step - loss: 0.0255 - accuracy: 0.9932 - val_loss: 0.0881 - val_accuracy: 0.9848\n",
      "Epoch 12/20\n",
      "469/469 [==============================] - 15s 32ms/step - loss: 0.0228 - accuracy: 0.9932 - val_loss: 0.1159 - val_accuracy: 0.9826\n",
      "Epoch 13/20\n",
      "469/469 [==============================] - 17s 36ms/step - loss: 0.0218 - accuracy: 0.9937 - val_loss: 0.0917 - val_accuracy: 0.9855\n",
      "Epoch 14/20\n",
      "469/469 [==============================] - 8s 17ms/step - loss: 0.0226 - accuracy: 0.9937 - val_loss: 0.1140 - val_accuracy: 0.9828\n",
      "Epoch 15/20\n",
      "469/469 [==============================] - 7s 15ms/step - loss: 0.0229 - accuracy: 0.9940 - val_loss: 0.0991 - val_accuracy: 0.9839\n",
      "Epoch 16/20\n",
      "469/469 [==============================] - 7s 15ms/step - loss: 0.0217 - accuracy: 0.9943 - val_loss: 0.1127 - val_accuracy: 0.9825\n",
      "Epoch 17/20\n",
      "469/469 [==============================] - 7s 15ms/step - loss: 0.0214 - accuracy: 0.9943 - val_loss: 0.1252 - val_accuracy: 0.9830\n",
      "Epoch 18/20\n",
      "469/469 [==============================] - 8s 17ms/step - loss: 0.0185 - accuracy: 0.9952 - val_loss: 0.1233 - val_accuracy: 0.9849\n",
      "Epoch 19/20\n",
      "469/469 [==============================] - 7s 15ms/step - loss: 0.0176 - accuracy: 0.9949 - val_loss: 0.1195 - val_accuracy: 0.9842\n",
      "Epoch 20/20\n",
      "469/469 [==============================] - 7s 15ms/step - loss: 0.0188 - accuracy: 0.9949 - val_loss: 0.1260 - val_accuracy: 0.9832\n"
     ]
    }
   ],
   "source": [
    "history = model.fit(x_train, y_train,batch_size=batch_size,epochs=epochs,validation_data=(x_test, y_test))"
   ]
  },
  {
   "cell_type": "code",
   "execution_count": null,
   "id": "cab49c22",
   "metadata": {},
   "outputs": [],
   "source": [
    "score = model.evaluate(x_test, y_test, verbose=0)\n",
    "print('Test loss:', score[0])\n",
    "print('Test accuracy:', score[1])"
   ]
  }
 ],
 "metadata": {
  "kernelspec": {
   "display_name": "Python 3",
   "language": "python",
   "name": "python3"
  },
  "language_info": {
   "codemirror_mode": {
    "name": "ipython",
    "version": 3
   },
   "file_extension": ".py",
   "mimetype": "text/x-python",
   "name": "python",
   "nbconvert_exporter": "python",
   "pygments_lexer": "ipython3",
   "version": "3.6.6"
  }
 },
 "nbformat": 4,
 "nbformat_minor": 5
}
